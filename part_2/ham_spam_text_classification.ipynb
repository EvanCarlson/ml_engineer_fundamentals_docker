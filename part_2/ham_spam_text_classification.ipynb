{
 "cells": [
  {
   "cell_type": "code",
   "execution_count": null,
   "id": "178825d9-7e0a-455c-a5f5-9920b1977b23",
   "metadata": {
    "is_executing": true
   },
   "outputs": [],
   "source": [
    "import collections\n",
    "from dataclasses import dataclass\n",
    "import io\n",
    "import matplotlib.pyplot as plt\n",
    "import numpy as np\n",
    "import pandas as pd\n",
    "import pathlib\n",
    "import re\n",
    "import requests\n",
    "from sklearn.feature_extraction.text import TfidfVectorizer\n",
    "from sklearn.linear_model import LogisticRegression\n",
    "from sklearn.metrics import classification_report, confusion_matrix\n",
    "from sklearn.model_selection import train_test_split\n",
    "from sklearn.pipeline import Pipeline\n",
    "from typing import Optional, Tuple\n",
    "import zipfile"
   ]
  },
  {
   "cell_type": "markdown",
   "id": "3842825e-db73-4791-bdfd-b7def2a0d6bf",
   "metadata": {},
   "source": [
    "# Download the Raw Data"
   ]
  },
  {
   "cell_type": "code",
   "execution_count": 2,
   "id": "1e771461-8650-4508-86bc-1c8a506213b6",
   "metadata": {},
   "outputs": [],
   "source": [
    "dataset_zip_url = \"https://archive.ics.uci.edu/static/public/228/sms+spam+collection.zip\"\n",
    "data_dir = \"data/\""
   ]
  },
  {
   "cell_type": "code",
   "execution_count": 3,
   "id": "252da0bd-de53-4eb8-b9c3-26337116def8",
   "metadata": {},
   "outputs": [],
   "source": [
    "# Download the dataset file and unzip it, saving it to the `data/` directory.\n",
    "response = requests.get(dataset_zip_url)\n",
    "zip_file = zipfile.ZipFile(io.BytesIO(response.content))\n",
    "zip_file.extractall(data_dir)"
   ]
  },
  {
   "cell_type": "markdown",
   "id": "087195b8-96b2-41e2-aa11-afc57a6f22e7",
   "metadata": {},
   "source": [
    "# EDA\n",
    "We will perform some light Exploratory Data Analysis (EDA) to get a better feel for our data. Some of our takeaways:\n",
    "\n",
    "- Most of the labels are \"ham\". This seems intiutive since most SMS messages are legitimate.\n",
    "- Most of the messages are short. The average length is only 15 words.\n",
    "- The average length of a spam message is 23 words and the average length of a ham message is 15 words.\n",
    "- Spam messages tend to be longer than ham messages.\n",
    "- Some of the most popular spam words are \"call\" and \"free\" implying spam messages involve talking to someone and/or winning something for free. This seems intuitive because spammers need a way to entice people.\n",
    "- The most popular words in “ham” messages seem to be more personal such as \"I\", \"you\", \"u\", \"me\", and \"my\"."
   ]
  },
  {
   "cell_type": "code",
   "execution_count": 4,
   "id": "240fb72b-e236-4af8-aad6-3d51e9c3cacc",
   "metadata": {},
   "outputs": [],
   "source": [
    "# Load the dataset.\n",
    "dataset_path = pathlib.Path(data_dir) / \"SMSSpamCollection\"\n",
    "df = pd.read_csv(dataset_path, sep=\"\\t\", header=None, names=[\"label\", \"text\"])"
   ]
  },
  {
   "cell_type": "code",
   "execution_count": 5,
   "id": "ea28f5a1-caf9-4acb-aeaf-08410a94efa9",
   "metadata": {},
   "outputs": [
    {
     "data": {
      "text/html": [
       "<div>\n",
       "<style scoped>\n",
       "    .dataframe tbody tr th:only-of-type {\n",
       "        vertical-align: middle;\n",
       "    }\n",
       "\n",
       "    .dataframe tbody tr th {\n",
       "        vertical-align: top;\n",
       "    }\n",
       "\n",
       "    .dataframe thead th {\n",
       "        text-align: right;\n",
       "    }\n",
       "</style>\n",
       "<table border=\"1\" class=\"dataframe\">\n",
       "  <thead>\n",
       "    <tr style=\"text-align: right;\">\n",
       "      <th></th>\n",
       "      <th>label</th>\n",
       "      <th>text</th>\n",
       "    </tr>\n",
       "  </thead>\n",
       "  <tbody>\n",
       "    <tr>\n",
       "      <th>0</th>\n",
       "      <td>ham</td>\n",
       "      <td>Go until jurong point, crazy.. Available only ...</td>\n",
       "    </tr>\n",
       "    <tr>\n",
       "      <th>1</th>\n",
       "      <td>ham</td>\n",
       "      <td>Ok lar... Joking wif u oni...</td>\n",
       "    </tr>\n",
       "    <tr>\n",
       "      <th>2</th>\n",
       "      <td>spam</td>\n",
       "      <td>Free entry in 2 a wkly comp to win FA Cup fina...</td>\n",
       "    </tr>\n",
       "    <tr>\n",
       "      <th>3</th>\n",
       "      <td>ham</td>\n",
       "      <td>U dun say so early hor... U c already then say...</td>\n",
       "    </tr>\n",
       "    <tr>\n",
       "      <th>4</th>\n",
       "      <td>ham</td>\n",
       "      <td>Nah I don't think he goes to usf, he lives aro...</td>\n",
       "    </tr>\n",
       "  </tbody>\n",
       "</table>\n",
       "</div>"
      ],
      "text/plain": [
       "  label                                               text\n",
       "0   ham  Go until jurong point, crazy.. Available only ...\n",
       "1   ham                      Ok lar... Joking wif u oni...\n",
       "2  spam  Free entry in 2 a wkly comp to win FA Cup fina...\n",
       "3   ham  U dun say so early hor... U c already then say...\n",
       "4   ham  Nah I don't think he goes to usf, he lives aro..."
      ]
     },
     "execution_count": 5,
     "metadata": {},
     "output_type": "execute_result"
    }
   ],
   "source": [
    "# Check out the first 5 rows.\n",
    "df.head()"
   ]
  },
  {
   "cell_type": "code",
   "execution_count": 6,
   "id": "7ecd2309-fe95-4611-94b0-513c85048ea2",
   "metadata": {},
   "outputs": [
    {
     "data": {
      "image/png": "[encoded data removed]",
      "text/plain": [
       "<Figure size 640x480 with 1 Axes>"
      ]
     },
     "metadata": {},
     "output_type": "display_data"
    }
   ],
   "source": [
    "# Let's see how balanced the dataset is.\n",
    "# That is, let's see how many \"ham\" labels there are compared to \"spam\" labels.\n",
    "plt.hist(df[\"label\"])\n",
    "plt.title(\"Count of Dataset Labels\")\n",
    "plt.xlabel(\"Label\")\n",
    "plt.show()"
   ]
  },
  {
   "cell_type": "code",
   "execution_count": 7,
   "id": "00a14682-33ea-4649-89bb-807d0cb51986",
   "metadata": {},
   "outputs": [
    {
     "name": "stdout",
     "output_type": "stream",
     "text": [
      "87.0% of the labels are 'ham'.\n"
     ]
    }
   ],
   "source": [
    "label_freq = df[\"label\"].value_counts(normalize=True) * 100\n",
    "ham_freq = round(label_freq[\"ham\"], 0)\n",
    "print(f\"{ham_freq}% of the labels are 'ham'.\")"
   ]
  },
  {
   "cell_type": "code",
   "execution_count": 8,
   "id": "cdac7f10-52f7-430d-bbdd-365fde7195d7",
   "metadata": {},
   "outputs": [
    {
     "data": {
      "image/png": "[encoded data removed]",
      "text/plain": [
       "<Figure size 640x480 with 1 Axes>"
      ]
     },
     "metadata": {},
     "output_type": "display_data"
    }
   ],
   "source": [
    "# Let's see how long messages are.\n",
    "df.loc[:, \"message_length\"] = df[\"text\"].apply(lambda t: len(t.split())) # Split by whitespace to get a rough estimate.\n",
    "\n",
    "plt.hist(df[\"message_length\"])\n",
    "plt.title(\"SMS Message Lengths\")\n",
    "plt.xlabel(\"Message Length\")\n",
    "plt.show()"
   ]
  },
  {
   "cell_type": "code",
   "execution_count": 9,
   "id": "ab67fed3-3a92-4491-ad6b-bc81464cc5f0",
   "metadata": {},
   "outputs": [
    {
     "name": "stdout",
     "output_type": "stream",
     "text": [
      "The average message length is 15 words.\n"
     ]
    }
   ],
   "source": [
    "avg_message_len = int(df[\"message_length\"].mean())\n",
    "print(f\"The average message length is\", avg_message_len, \"words.\")"
   ]
  },
  {
   "cell_type": "code",
   "execution_count": 10,
   "id": "e63b8e04-54c0-4580-a4d0-20ec3a1405b4",
   "metadata": {},
   "outputs": [
    {
     "name": "stdout",
     "output_type": "stream",
     "text": [
      "The average spam message length is 23 words.\n"
     ]
    }
   ],
   "source": [
    "avg_spam_message_len = int(df.loc[df[\"label\"] == \"spam\", \"message_length\"].mean())\n",
    "print(f\"The average spam message length is\", avg_spam_message_len, \"words.\")"
   ]
  },
  {
   "cell_type": "code",
   "execution_count": 11,
   "id": "9f91708c-f5b0-4a1d-8546-51b0f786fc1f",
   "metadata": {},
   "outputs": [
    {
     "name": "stdout",
     "output_type": "stream",
     "text": [
      "The average spam message length is 14 words.\n"
     ]
    }
   ],
   "source": [
    "avg_ham_message_len = int(df.loc[df[\"label\"] == \"ham\", \"message_length\"].mean())\n",
    "print(f\"The average spam message length is\", avg_ham_message_len, \"words.\")"
   ]
  },
  {
   "cell_type": "code",
   "execution_count": 12,
   "id": "da548460-9c90-419b-9fd4-d0c507a50a3e",
   "metadata": {},
   "outputs": [],
   "source": [
    "def get_word_freq(text: str) -> collections.Counter:\n",
    "    \"\"\"Get word frequency from the given text.\n",
    "\n",
    "    Parameters\n",
    "    ----------\n",
    "    text : str\n",
    "        The given text.\n",
    "\n",
    "    Returns\n",
    "    -------\n",
    "    collections.Counter\n",
    "        The word counts.\n",
    "    \"\"\"\n",
    "\n",
    "    text = text.lower()\n",
    "    split_text = re.split(\"\\W\", text) # Split the text by any non-word character.\n",
    "    word_pattern = re.compile(\"\\w\")\n",
    "    words = [word for word in split_text if word_pattern.match(word)] # Only grab words.\n",
    "    return collections.Counter(words)"
   ]
  },
  {
   "cell_type": "code",
   "execution_count": 13,
   "id": "9f7b8eed-6595-4ed6-910c-83de0d3a0b03",
   "metadata": {},
   "outputs": [
    {
     "data": {
      "text/plain": [
       "[('to', 691),\n",
       " ('a', 380),\n",
       " ('call', 355),\n",
       " ('you', 297),\n",
       " ('your', 264),\n",
       " ('free', 224),\n",
       " ('2', 207),\n",
       " ('the', 206),\n",
       " ('for', 204),\n",
       " ('now', 199)]"
      ]
     },
     "execution_count": 13,
     "metadata": {},
     "output_type": "execute_result"
    }
   ],
   "source": [
    "# Let's check out the top 10 words used in spam messages.\n",
    "top_n_words = 10\n",
    "spam_message_top_ten_word_count = get_word_freq(\" \".join(df.loc[df[\"label\"] == \"spam\", \"text\"].values)).most_common(top_n_words)\n",
    "spam_message_top_ten_word_count"
   ]
  },
  {
   "cell_type": "code",
   "execution_count": 14,
   "id": "decd1d43-92d0-435e-80e2-2e1104175e85",
   "metadata": {},
   "outputs": [
    {
     "data": {
      "text/plain": [
       "[('i', 2960),\n",
       " ('you', 1948),\n",
       " ('to', 1562),\n",
       " ('the', 1133),\n",
       " ('a', 1070),\n",
       " ('u', 1033),\n",
       " ('and', 858),\n",
       " ('in', 823),\n",
       " ('me', 777),\n",
       " ('my', 754)]"
      ]
     },
     "execution_count": 14,
     "metadata": {},
     "output_type": "execute_result"
    }
   ],
   "source": [
    "# Let's check out the top words used in ham messages.\n",
    "ham_message_top_ten_word_count = get_word_freq(\" \".join(df.loc[df[\"label\"] == \"ham\", \"text\"].values)).most_common(top_n_words)\n",
    "ham_message_top_ten_word_count"
   ]
  },
  {
   "cell_type": "markdown",
   "id": "ead7cb2d-221b-4a1f-8e6d-8e4acda1d646",
   "metadata": {},
   "source": [
    "# Preprocess the Data"
   ]
  },
  {
   "cell_type": "code",
   "execution_count": 15,
   "id": "8bbfb916-79ad-4e0d-a335-f470c9337220",
   "metadata": {},
   "outputs": [],
   "source": [
    "# Generate our configuration\n",
    "@dataclass\n",
    "class Config:\n",
    "    min_df: int = 5 # Ignore words that have occurred less than `min_df` times.\n",
    "    ngram_range: Tuple = (1, 2) # Extract unigrams and bigrams.\n",
    "    stop_words: Optional[str] = None # What set of stop words to use.\n",
    "    train_split_pct: float = 0.7 # What percentage of the dataset will be used for training.\n",
    "    seed: int = 21 # For reproducibility\n",
    "\n",
    "    def __post_init__(self):\n",
    "        # Ensure `train_split_pct` is at least 10% and no more than 99%.\n",
    "        if self.train_split_pct < 0.1 or self.train_split_pct > 0.99:\n",
    "            raise ValueError(\"train_split_pct must be in the range (0.1, 0.99)\")"
   ]
  },
  {
   "cell_type": "code",
   "execution_count": 17,
   "id": "1dcc4567-9405-4daa-819c-eecca38fa900",
   "metadata": {},
   "outputs": [],
   "source": [
    "config = Config()"
   ]
  },
  {
   "cell_type": "code",
   "execution_count": 18,
   "id": "d007948f-3220-45fc-93e1-6db64037fe41",
   "metadata": {},
   "outputs": [],
   "source": [
    "# Split data into train and test sets. Use stratification to keep an even balance of labels.\n",
    "X = df[\"text\"]\n",
    "y = df[\"label\"]\n",
    "X_train, X_test, y_train, y_test = train_test_split(\n",
    "    X,\n",
    "    y,\n",
    "    train_size=config.train_split_pct,\n",
    "    stratify=y,\n",
    "    random_state=config.seed,\n",
    ")"
   ]
  },
  {
   "cell_type": "code",
   "execution_count": 19,
   "id": "312286a6-fc02-447e-81dd-a5dac6e21362",
   "metadata": {},
   "outputs": [
    {
     "data": {
      "text/plain": [
       "(label\n",
       " ham     3377\n",
       " spam     523\n",
       " Name: count, dtype: int64,\n",
       " label\n",
       " ham     1448\n",
       " spam     224\n",
       " Name: count, dtype: int64)"
      ]
     },
     "execution_count": 19,
     "metadata": {},
     "output_type": "execute_result"
    }
   ],
   "source": [
    "# Both the train and test sets have about 86% of their labels classified as \"ham\".\n",
    "y_train.value_counts(), y_test.value_counts()"
   ]
  },
  {
   "cell_type": "markdown",
   "id": "de4bf95a-cf68-46f5-8674-12724b4eddb9",
   "metadata": {},
   "source": [
    "# Train the Model"
   ]
  },
  {
   "cell_type": "code",
   "execution_count": 20,
   "id": "308b7f8b-57d4-4bf6-91cd-03f18901eccb",
   "metadata": {},
   "outputs": [],
   "source": [
    "vectorizer = TfidfVectorizer(\n",
    "    min_df=config.min_df,\n",
    "    ngram_range=config.ngram_range,\n",
    "    stop_words=config.stop_words,\n",
    ")\n",
    "log_reg = LogisticRegression(random_state=config.seed)\n",
    "pipeline = Pipeline(\n",
    "    [\n",
    "        (\"vectorizer\", vectorizer),\n",
    "        (\"classifier\", log_reg),\n",
    "    ]\n",
    ")"
   ]
  },
  {
   "cell_type": "code",
   "execution_count": 21,
   "id": "e70b9f45-bf97-496d-872b-79ad96e60aa0",
   "metadata": {},
   "outputs": [],
   "source": [
    "# Calculating TF-IDF on entire corpus will result in data leakage because the vectorizer will contain information\n",
    "# about the test set.\n",
    "# Calculating TF-IDF on the training and test set separately will potentially result in poor performance on the test\n",
    "# set because it's small.\n",
    "# Therefore, we can train the TF-IDF vectorizer on just the training data then use that vectorizer to calculate the\n",
    "# features for both the training and test set.\n",
    "model = pipeline.fit(X_train, y_train)"
   ]
  },
  {
   "cell_type": "markdown",
   "id": "4e0089de-746d-4ebf-863a-a30a301ba417",
   "metadata": {},
   "source": [
    "# Evaluate the Model"
   ]
  },
  {
   "cell_type": "code",
   "execution_count": 22,
   "id": "dff026ef-a5d3-403d-a3d0-85ea96084776",
   "metadata": {},
   "outputs": [],
   "source": [
    "y_pred = model.predict(X_test)"
   ]
  },
  {
   "cell_type": "code",
   "execution_count": 23,
   "id": "1bdc0ad5-2004-4e19-9057-f6a93080bf74",
   "metadata": {},
   "outputs": [
    {
     "data": {
      "text/plain": [
       "array(['ham', 'spam'], dtype=object)"
      ]
     },
     "execution_count": 23,
     "metadata": {},
     "output_type": "execute_result"
    }
   ],
   "source": [
    "labels = model.classes_\n",
    "# \"ham\" is designated as the positive class.\n",
    "# \"spam\" is designated as the negative class.\n",
    "labels"
   ]
  },
  {
   "cell_type": "code",
   "execution_count": 24,
   "id": "d6f7fad4-1f3b-48c1-9576-68182a4c1884",
   "metadata": {},
   "outputs": [
    {
     "name": "stdout",
     "output_type": "stream",
     "text": [
      "Classification report:\n",
      "\n",
      "              precision    recall  f1-score   support\n",
      "\n",
      "         ham       0.97      1.00      0.98      1448\n",
      "        spam       0.99      0.77      0.87       224\n",
      "\n",
      "    accuracy                           0.97      1672\n",
      "   macro avg       0.98      0.89      0.92      1672\n",
      "weighted avg       0.97      0.97      0.97      1672\n"
     ]
    }
   ],
   "source": [
    "# For each class in this report (i.e. \"ham\" and \"spam\") the metrics are calculated as if there were only two classes, \n",
    "# \"X\" and \"not X\".\n",
    "# e.g. For \"spam\", the metrics are calculated for binary classification of \"spam\". That is, \"spam\" and \"not spam\".\n",
    "print(\"Classification report:\")\n",
    "print()\n",
    "print(classification_report(y_test, y_pred, labels=labels))"
   ]
  },
  {
   "cell_type": "code",
   "execution_count": 25,
   "id": "c10aacc6-0b37-45be-8fe6-77bc2f2a9295",
   "metadata": {},
   "outputs": [
    {
     "name": "stdout",
     "output_type": "stream",
     "text": [
      "Confusion matrix:\n",
      "\n",
      "       ham  spam\n",
      "ham   1446     2\n",
      "spam    51   173\n"
     ]
    }
   ],
   "source": [
    "cm_df = pd.DataFrame(\n",
    "    confusion_matrix(y_test, y_pred, labels=labels), \n",
    "    index=labels, \n",
    "    columns=labels,\n",
    ")\n",
    "# The sklearn confusion matrix is read like so:\n",
    "#\n",
    "#                   Model Predictions\n",
    "#                ---------------------\n",
    "#               |       ham   spam\n",
    "# Actual Values | ham   1446     2\n",
    "#               | spam    51   173\n",
    "#\n",
    "print(\"Confusion matrix:\")\n",
    "print()\n",
    "print(cm_df)"
   ]
  },
  {
   "cell_type": "markdown",
   "id": "7b43988b-865e-479f-85f4-f6e2fcf4d396",
   "metadata": {},
   "source": [
    "## Check out Some of the Model's Mispredictions Manually\n",
    "Let's check out some of the SMS messages where the model predicted \"ham\", but it was \"spam\". We want to\n",
    "identify as many actual spam messages as spam so we can block them from reaching the user.\n",
    "\n",
    "Some of our takeaways:\n",
    "- The sampled messages look pretty fishy and don't look mislabeled. We could improve our model.\n",
    "- If we built out an application to block spam SMS messages, our model would have let 51 spam messages through from our test set. We should minimize this as much as possible."
   ]
  },
  {
   "cell_type": "code",
   "execution_count": 37,
   "id": "e7a38c14-5521-40c4-8abd-b18cfa3180b9",
   "metadata": {},
   "outputs": [
    {
     "name": "stdout",
     "output_type": "stream",
     "text": [
      "network operator. The service is free. For T & C's visit 80488.biz\n",
      "==================================================\n",
      "1000's of girls many local 2 u who r virgins 2 this & r ready 2 4fil ur every sexual need. Can u 4fil theirs? text CUTE to 69911(£1.50p. m)\n",
      "==================================================\n",
      "Burger King - Wanna play footy at a top stadium? Get 2 Burger King before 1st Sept and go Large or Super with Coca-Cola and walk out a winner\n",
      "==================================================\n",
      "Fantasy Football is back on your TV. Go to Sky Gamestar on Sky Active and play £250k Dream Team. Scoring starts on Saturday, so register now!SKY OPT OUT to 88088\n",
      "==================================================\n",
      "Not heard from U4 a while. Call me now am here all night with just my knickers on. Make me beg for it like U did last time 01223585236 XX Luv Nikiyu4.net\n",
      "==================================================\n"
     ]
    }
   ],
   "source": [
    "# Sample first 5 messages\n",
    "samples_idx = list(range(5))\n",
    "bad_preds = X_test[(y_pred == \"ham\") & (y_test == \"spam\")]\n",
    "# print(bad_preds.shape) # 51 bad predictions matches our confusion matrix above\n",
    "messages = bad_preds.iloc[samples_idx]\n",
    "for message in messages:\n",
    "    print(message)\n",
    "    print(\"=\" * 50)"
   ]
  },
  {
   "cell_type": "code",
   "execution_count": null,
   "id": "083a4bbd-96dd-4f4d-beec-40b1f65cbc42",
   "metadata": {},
   "outputs": [],
   "source": []
  }
 ],
 "metadata": {
  "kernelspec": {
   "display_name": "Python 3 (ipykernel)",
   "language": "python",
   "name": "python3"
  },
  "language_info": {
   "codemirror_mode": {
    "name": "ipython",
    "version": 3
   },
   "file_extension": ".py",
   "mimetype": "text/x-python",
   "name": "python",
   "nbconvert_exporter": "python",
   "pygments_lexer": "ipython3",
   "version": "3.11.6"
  }
 },
 "nbformat": 4,
 "nbformat_minor": 5
}
